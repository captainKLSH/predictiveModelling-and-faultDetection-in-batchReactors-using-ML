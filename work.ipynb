{
 "cells": [
  {
   "cell_type": "code",
   "execution_count": 4,
   "id": "f7e19dbe",
   "metadata": {},
   "outputs": [],
   "source": [
    "import pandas as pd\n",
    "import numpy as np\n",
    "import matplotlib.pyplot as plt"
   ]
  },
  {
   "cell_type": "code",
   "execution_count": null,
   "id": "93615304",
   "metadata": {},
   "outputs": [],
   "source": [
    "df=pd.read_csv('data/runawayfault_L.csv',header=0)\n",
    "df"
   ]
  },
  {
   "cell_type": "code",
   "execution_count": null,
   "id": "c1fbd835",
   "metadata": {},
   "outputs": [],
   "source": [
    "df=pd.read_csv('data/agitatorfault_L.csv',header=0)\n",
    "df"
   ]
  },
  {
   "cell_type": "code",
   "execution_count": null,
   "id": "e969d0a7",
   "metadata": {},
   "outputs": [],
   "source": [
    "df.info()"
   ]
  },
  {
   "cell_type": "code",
   "execution_count": null,
   "id": "e36456ad",
   "metadata": {},
   "outputs": [],
   "source": [
    "df.plot('Time_min','ReactorTemp')\n",
    "df.plot('Time_min','Pressure_bar')\n",
    "df.plot('Time_min','Volume_m3')\n",
    "df.plot('Time_min','Agitator_Speed_rpm')\n",
    "df.plot('Time_min','Coolant_Flow_m3_s')\n",
    "df.plot('Time_min','Feed_Flow_m3_s')\n",
    "df.plot('Time_min','Coolant_delatT_K')"
   ]
  },
  {
   "cell_type": "code",
   "execution_count": null,
   "id": "08449ab1",
   "metadata": {},
   "outputs": [],
   "source": [
    "df['fault_type']=00"
   ]
  },
  {
   "cell_type": "code",
   "execution_count": 1,
   "id": "9c56adbc",
   "metadata": {},
   "outputs": [],
   "source": [
    "from src.load_and_label import load_and_label_data\n"
   ]
  },
  {
   "cell_type": "code",
   "execution_count": 2,
   "id": "ce59c048",
   "metadata": {},
   "outputs": [
    {
     "name": "stdout",
     "output_type": "stream",
     "text": [
      "Loading and auto-labeling normal batch files...\n",
      "  - Loaded and labeled normalbatch1.csv as Normal.\n",
      "  - Loaded and labeled normalbatch2.csv as Normal.\n",
      "  - Loaded and labeled normalbatch3.csv as Normal.\n",
      "  - Loaded and labeled normalbatch4.csv as Normal.\n",
      "  - Loaded and labeled normalbatch5.csv as Normal.\n",
      "  - Loaded and labeled normalbatch6.csv as Normal.\n",
      "  - Loaded and labeled normalbatch7.csv as Normal.\n",
      "\n",
      "Loading manually labeled fault batch files...\n",
      "  - Loaded agitatorfault_L.csv using your manual labels.\n",
      "  - Loaded runawayfault_L.csv using your manual labels.\n",
      "\n",
      "Successfully combined all data into a master table with 5409 rows.\n"
     ]
    }
   ],
   "source": [
    "master_dataset = load_and_label_data()"
   ]
  },
  {
   "cell_type": "code",
   "execution_count": 7,
   "id": "aba4af00",
   "metadata": {},
   "outputs": [
    {
     "data": {
      "text/html": [
       "<div>\n",
       "<style scoped>\n",
       "    .dataframe tbody tr th:only-of-type {\n",
       "        vertical-align: middle;\n",
       "    }\n",
       "\n",
       "    .dataframe tbody tr th {\n",
       "        vertical-align: top;\n",
       "    }\n",
       "\n",
       "    .dataframe thead th {\n",
       "        text-align: right;\n",
       "    }\n",
       "</style>\n",
       "<table border=\"1\" class=\"dataframe\">\n",
       "  <thead>\n",
       "    <tr style=\"text-align: right;\">\n",
       "      <th></th>\n",
       "      <th>Time_min</th>\n",
       "      <th>ReactorTemp</th>\n",
       "      <th>Pressure_bar</th>\n",
       "      <th>Volume_m3</th>\n",
       "      <th>Agitator_Speed_rpm</th>\n",
       "      <th>Coolant_Flow_m3_s</th>\n",
       "      <th>Feed_Flow_m3_s</th>\n",
       "      <th>Coolant_delatT_K</th>\n",
       "    </tr>\n",
       "  </thead>\n",
       "  <tbody>\n",
       "    <tr>\n",
       "      <th>0</th>\n",
       "      <td>0.0</td>\n",
       "      <td>313.343280</td>\n",
       "      <td>1.200000</td>\n",
       "      <td>8.916667</td>\n",
       "      <td>800</td>\n",
       "      <td>0.000000</td>\n",
       "      <td>0.000000</td>\n",
       "      <td>5.077143</td>\n",
       "    </tr>\n",
       "    <tr>\n",
       "      <th>1</th>\n",
       "      <td>0.5</td>\n",
       "      <td>314.277677</td>\n",
       "      <td>1.293476</td>\n",
       "      <td>8.994521</td>\n",
       "      <td>800</td>\n",
       "      <td>0.413430</td>\n",
       "      <td>0.002576</td>\n",
       "      <td>8.388683</td>\n",
       "    </tr>\n",
       "    <tr>\n",
       "      <th>2</th>\n",
       "      <td>1.0</td>\n",
       "      <td>318.062160</td>\n",
       "      <td>1.500000</td>\n",
       "      <td>9.070621</td>\n",
       "      <td>800</td>\n",
       "      <td>0.993892</td>\n",
       "      <td>0.002475</td>\n",
       "      <td>11.379813</td>\n",
       "    </tr>\n",
       "    <tr>\n",
       "      <th>3</th>\n",
       "      <td>1.5</td>\n",
       "      <td>323.607105</td>\n",
       "      <td>1.500000</td>\n",
       "      <td>9.149315</td>\n",
       "      <td>800</td>\n",
       "      <td>1.000000</td>\n",
       "      <td>0.002561</td>\n",
       "      <td>14.081088</td>\n",
       "    </tr>\n",
       "    <tr>\n",
       "      <th>4</th>\n",
       "      <td>2.0</td>\n",
       "      <td>328.205591</td>\n",
       "      <td>1.500000</td>\n",
       "      <td>9.225946</td>\n",
       "      <td>800</td>\n",
       "      <td>0.980534</td>\n",
       "      <td>0.002533</td>\n",
       "      <td>16.519993</td>\n",
       "    </tr>\n",
       "    <tr>\n",
       "      <th>...</th>\n",
       "      <td>...</td>\n",
       "      <td>...</td>\n",
       "      <td>...</td>\n",
       "      <td>...</td>\n",
       "      <td>...</td>\n",
       "      <td>...</td>\n",
       "      <td>...</td>\n",
       "      <td>...</td>\n",
       "    </tr>\n",
       "    <tr>\n",
       "      <th>596</th>\n",
       "      <td>298.0</td>\n",
       "      <td>313.535758</td>\n",
       "      <td>1.223113</td>\n",
       "      <td>27.646414</td>\n",
       "      <td>800</td>\n",
       "      <td>0.003448</td>\n",
       "      <td>0.000000</td>\n",
       "      <td>10.606815</td>\n",
       "    </tr>\n",
       "    <tr>\n",
       "      <th>597</th>\n",
       "      <td>298.5</td>\n",
       "      <td>313.321166</td>\n",
       "      <td>1.221163</td>\n",
       "      <td>27.647001</td>\n",
       "      <td>800</td>\n",
       "      <td>0.000000</td>\n",
       "      <td>0.000000</td>\n",
       "      <td>11.050408</td>\n",
       "    </tr>\n",
       "    <tr>\n",
       "      <th>598</th>\n",
       "      <td>299.0</td>\n",
       "      <td>313.308338</td>\n",
       "      <td>1.219563</td>\n",
       "      <td>27.647620</td>\n",
       "      <td>800</td>\n",
       "      <td>0.004351</td>\n",
       "      <td>0.000000</td>\n",
       "      <td>10.512819</td>\n",
       "    </tr>\n",
       "    <tr>\n",
       "      <th>599</th>\n",
       "      <td>299.5</td>\n",
       "      <td>313.422563</td>\n",
       "      <td>1.219041</td>\n",
       "      <td>27.648095</td>\n",
       "      <td>800</td>\n",
       "      <td>0.000000</td>\n",
       "      <td>0.000000</td>\n",
       "      <td>10.962858</td>\n",
       "    </tr>\n",
       "    <tr>\n",
       "      <th>600</th>\n",
       "      <td>300.0</td>\n",
       "      <td>313.431861</td>\n",
       "      <td>1.216780</td>\n",
       "      <td>27.648623</td>\n",
       "      <td>800</td>\n",
       "      <td>0.000000</td>\n",
       "      <td>0.000000</td>\n",
       "      <td>11.367324</td>\n",
       "    </tr>\n",
       "  </tbody>\n",
       "</table>\n",
       "<p>601 rows × 8 columns</p>\n",
       "</div>"
      ],
      "text/plain": [
       "     Time_min  ReactorTemp  Pressure_bar  Volume_m3  Agitator_Speed_rpm  \\\n",
       "0         0.0   313.343280      1.200000   8.916667                 800   \n",
       "1         0.5   314.277677      1.293476   8.994521                 800   \n",
       "2         1.0   318.062160      1.500000   9.070621                 800   \n",
       "3         1.5   323.607105      1.500000   9.149315                 800   \n",
       "4         2.0   328.205591      1.500000   9.225946                 800   \n",
       "..        ...          ...           ...        ...                 ...   \n",
       "596     298.0   313.535758      1.223113  27.646414                 800   \n",
       "597     298.5   313.321166      1.221163  27.647001                 800   \n",
       "598     299.0   313.308338      1.219563  27.647620                 800   \n",
       "599     299.5   313.422563      1.219041  27.648095                 800   \n",
       "600     300.0   313.431861      1.216780  27.648623                 800   \n",
       "\n",
       "     Coolant_Flow_m3_s  Feed_Flow_m3_s  Coolant_delatT_K  \n",
       "0             0.000000        0.000000          5.077143  \n",
       "1             0.413430        0.002576          8.388683  \n",
       "2             0.993892        0.002475         11.379813  \n",
       "3             1.000000        0.002561         14.081088  \n",
       "4             0.980534        0.002533         16.519993  \n",
       "..                 ...             ...               ...  \n",
       "596           0.003448        0.000000         10.606815  \n",
       "597           0.000000        0.000000         11.050408  \n",
       "598           0.004351        0.000000         10.512819  \n",
       "599           0.000000        0.000000         10.962858  \n",
       "600           0.000000        0.000000         11.367324  \n",
       "\n",
       "[601 rows x 8 columns]"
      ]
     },
     "execution_count": 7,
     "metadata": {},
     "output_type": "execute_result"
    }
   ],
   "source": [
    "df= pd.read_csv(\"raw/normal/normalbatch1.csv\",header=0)\n",
    "df"
   ]
  },
  {
   "cell_type": "code",
   "execution_count": 13,
   "id": "40236fa9",
   "metadata": {},
   "outputs": [
    {
     "data": {
      "text/plain": [
       "pandas.core.frame.DataFrame"
      ]
     },
     "execution_count": 13,
     "metadata": {},
     "output_type": "execute_result"
    }
   ],
   "source": [
    "type(master_dataset)"
   ]
  },
  {
   "cell_type": "code",
   "execution_count": 14,
   "id": "57f031ef",
   "metadata": {},
   "outputs": [],
   "source": [
    "master_dataset.to_csv(\"data/masterset.csv\",index=False)"
   ]
  },
  {
   "cell_type": "code",
   "execution_count": null,
   "id": "b42f08d7",
   "metadata": {},
   "outputs": [],
   "source": []
  }
 ],
 "metadata": {
  "kernelspec": {
   "display_name": "aiml",
   "language": "python",
   "name": "python3"
  },
  "language_info": {
   "codemirror_mode": {
    "name": "ipython",
    "version": 3
   },
   "file_extension": ".py",
   "mimetype": "text/x-python",
   "name": "python",
   "nbconvert_exporter": "python",
   "pygments_lexer": "ipython3",
   "version": "3.12.2"
  }
 },
 "nbformat": 4,
 "nbformat_minor": 5
}
