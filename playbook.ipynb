{
 "cells": [
  {
   "cell_type": "code",
   "execution_count": 1,
   "id": "32c8d164",
   "metadata": {},
   "outputs": [],
   "source": [
    "from src.load_and_label import load_and_label_data\n"
   ]
  },
  {
   "cell_type": "code",
   "execution_count": 2,
   "id": "113b48e8",
   "metadata": {},
   "outputs": [
    {
     "name": "stdout",
     "output_type": "stream",
     "text": [
      "Loading and auto-labeling normal batch files...\n",
      "  - Loaded and labeled normalbatch1.csv as Normal.\n",
      "  - Loaded and labeled normalbatch2.csv as Normal.\n",
      "  - Loaded and labeled normalbatch3.csv as Normal.\n",
      "  - Loaded and labeled normalbatch4.csv as Normal.\n",
      "  - Loaded and labeled normalbatch5.csv as Normal.\n",
      "  - Loaded and labeled normalbatch6.csv as Normal.\n",
      "  - Loaded and labeled normalbatch7.csv as Normal.\n",
      "\n",
      "Loading manually labeled fault batch files...\n",
      "  - Loaded agitatorfault_L.csv using your manual labels.\n",
      "  - Loaded runawayfault_L.csv using your manual labels.\n",
      "\n",
      "Successfully combined all data into a master table with 5409 rows.\n"
     ]
    }
   ],
   "source": [
    "master_dataset = load_and_label_data()\n",
    "master_dataset.to_csv(\"data/masterset.csv\",index=False)"
   ]
  },
  {
   "cell_type": "code",
   "execution_count": null,
   "id": "baeb288d",
   "metadata": {},
   "outputs": [],
   "source": []
  }
 ],
 "metadata": {
  "kernelspec": {
   "display_name": "aiml",
   "language": "python",
   "name": "python3"
  },
  "language_info": {
   "codemirror_mode": {
    "name": "ipython",
    "version": 3
   },
   "file_extension": ".py",
   "mimetype": "text/x-python",
   "name": "python",
   "nbconvert_exporter": "python",
   "pygments_lexer": "ipython3",
   "version": "3.12.2"
  }
 },
 "nbformat": 4,
 "nbformat_minor": 5
}
