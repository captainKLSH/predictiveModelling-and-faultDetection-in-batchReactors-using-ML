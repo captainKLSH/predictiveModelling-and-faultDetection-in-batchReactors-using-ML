{
 "cells": [
  {
   "cell_type": "code",
   "execution_count": 1,
   "id": "cd824e2b",
   "metadata": {},
   "outputs": [],
   "source": [
    "import numpy as np\n",
    "import pandas as pd"
   ]
  },
  {
   "cell_type": "code",
   "execution_count": 3,
   "id": "e4989f96",
   "metadata": {},
   "outputs": [],
   "source": [
    "import sys\n",
    "sys.path.append('../../src') \n",
    "from monitoring_faultdetection import load_tools,prepare_new_data,diagnose_reactor"
   ]
  },
  {
   "cell_type": "code",
   "execution_count": 12,
   "id": "9347f8da",
   "metadata": {},
   "outputs": [],
   "source": [
    "SAVED_MODEL_PATH = '../../models/reactor_fault_detector1.h5'\n",
    "SAVED_PREPROCESSOR_PATH = '../../pkl/preprocessor.pkl'\n",
    "# A dictionary to translate the model's output into human-readable labels.\n",
    "CLASS_NAMES = {0: 'Normal', 1: 'Agitator Fault', 2: 'Runaway Fault'}"
   ]
  },
  {
   "cell_type": "code",
   "execution_count": 13,
   "id": "29f2809e",
   "metadata": {},
   "outputs": [
    {
     "name": "stderr",
     "output_type": "stream",
     "text": [
      "WARNING:absl:Compiled the loaded model, but the compiled metrics have yet to be built. `model.compile_metrics` will be empty until you train or evaluate the model.\n"
     ]
    },
    {
     "name": "stdout",
     "output_type": "stream",
     "text": [
      "Loading the trained AI model and preprocessor...\n",
      "Tools loaded successfully.\n"
     ]
    }
   ],
   "source": [
    "model, preprocessor = load_tools(SAVED_MODEL_PATH, SAVED_PREPROCESSOR_PATH)"
   ]
  },
  {
   "cell_type": "code",
   "execution_count": null,
   "id": "4adda459",
   "metadata": {},
   "outputs": [
    {
     "name": "stdout",
     "output_type": "stream",
     "text": [
      "\n",
      "Successfully loaded new data sample for diagnosis.\n",
      "\u001b[1m1/1\u001b[0m \u001b[32m━━━━━━━━━━━━━━━━━━━━\u001b[0m\u001b[37m\u001b[0m \u001b[1m0s\u001b[0m 279ms/step\n",
      "\n",
      "--- REACTOR DIAGNOSIS ---\n",
      "      Status: Agitator Fault\n",
      "  Confidence: 99.98%\n",
      "-------------------------\n"
     ]
    }
   ],
   "source": [
    "new_patient_data = pd.read_csv('agitatorfault.csv')\n",
    "print(\"\\nSuccessfully loaded new data sample for diagnosis.\")\n",
    "\n",
    "# Step 3: Prepare the new data for the model.\n",
    "processed_sequence = prepare_new_data(preprocessor, new_patient_data)\n",
    "\n",
    "# Step 4: Get the diagnosis from the AI.\n",
    "diagnosis, confidence = diagnose_reactor(model, processed_sequence, CLASS_NAMES)\n",
    "\n",
    "# --- Display the final result ---\n",
    "print(\"\\n--- REACTOR DIAGNOSIS ---\")\n",
    "print(f\"      Status: {diagnosis}\")\n",
    "print(f\"  Confidence: {confidence:.2f}%\")\n",
    "print(\"-------------------------\")"
   ]
  },
  {
   "cell_type": "code",
   "execution_count": 15,
   "id": "d1a0f956",
   "metadata": {},
   "outputs": [
    {
     "name": "stdout",
     "output_type": "stream",
     "text": [
      "\u001b[1m1/1\u001b[0m \u001b[32m━━━━━━━━━━━━━━━━━━━━\u001b[0m\u001b[37m\u001b[0m \u001b[1m0s\u001b[0m 12ms/step\n",
      "\n",
      "--- REACTOR DIAGNOSIS ---\n",
      "      Status: Normal\n",
      "  Confidence: 99.99%\n",
      "-------------------------\n"
     ]
    }
   ],
   "source": [
    "new_patient_data = pd.read_csv('normalbatch8.csv')\n",
    "processed_sequence = prepare_new_data(preprocessor, new_patient_data)\n",
    "diagnosis, confidence = diagnose_reactor(model, processed_sequence, CLASS_NAMES)\n",
    "print(\"\\n--- REACTOR DIAGNOSIS ---\")\n",
    "print(f\"      Status: {diagnosis}\")\n",
    "print(f\"  Confidence: {confidence:.2f}%\")\n",
    "print(\"-------------------------\")"
   ]
  }
 ],
 "metadata": {
  "kernelspec": {
   "display_name": "aiml",
   "language": "python",
   "name": "python3"
  },
  "language_info": {
   "codemirror_mode": {
    "name": "ipython",
    "version": 3
   },
   "file_extension": ".py",
   "mimetype": "text/x-python",
   "name": "python",
   "nbconvert_exporter": "python",
   "pygments_lexer": "ipython3",
   "version": "3.12.2"
  }
 },
 "nbformat": 4,
 "nbformat_minor": 5
}
