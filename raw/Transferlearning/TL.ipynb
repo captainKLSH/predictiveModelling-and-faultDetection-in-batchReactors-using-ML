{
 "cells": [
  {
   "cell_type": "code",
   "execution_count": 1,
   "id": "b12c8cae",
   "metadata": {},
   "outputs": [],
   "source": [
    "import pandas as pd"
   ]
  },
  {
   "cell_type": "code",
   "execution_count": null,
   "id": "f78eccb5",
   "metadata": {},
   "outputs": [],
   "source": [
    "SAVED_MODEL_PATH = '../../models/reactor_fault_detector1.h5'\n",
    "SAVED_PREPROCESSOR_PATH = '../../pkl/preprocessor.pkl'\n",
    "# A dictionary to translate the model's output into human-readable labels.\n",
    "CLASS_NAMES = {0: 'Normal', 1: 'Agitator Fault', 2: 'Runaway Fault'}"
   ]
  }
 ],
 "metadata": {
  "kernelspec": {
   "display_name": "aiml",
   "language": "python",
   "name": "python3"
  },
  "language_info": {
   "codemirror_mode": {
    "name": "ipython",
    "version": 3
   },
   "file_extension": ".py",
   "mimetype": "text/x-python",
   "name": "python",
   "nbconvert_exporter": "python",
   "pygments_lexer": "ipython3",
   "version": "3.12.2"
  }
 },
 "nbformat": 4,
 "nbformat_minor": 5
}
